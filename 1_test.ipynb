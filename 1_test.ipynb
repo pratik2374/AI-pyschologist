{
 "cells": [
  {
   "cell_type": "code",
   "execution_count": 96,
   "id": "49996ea5",
   "metadata": {},
   "outputs": [],
   "source": [
    "from langgraph.graph import StateGraph , START , END\n",
    "from typing import TypedDict , Annotated\n",
    "from langchain_openai import ChatOpenAI\n",
    "from dotenv import load_dotenv\n",
    "from langchain.schema import HumanMessage , AIMessage , SystemMessage\n",
    "from langgraph.graph import add_messages\n"
   ]
  },
  {
   "cell_type": "code",
   "execution_count": 80,
   "id": "6d605e13",
   "metadata": {},
   "outputs": [
    {
     "data": {
      "text/plain": [
       "True"
      ]
     },
     "execution_count": 80,
     "metadata": {},
     "output_type": "execute_result"
    }
   ],
   "source": [
    "load_dotenv()"
   ]
  },
  {
   "cell_type": "code",
   "execution_count": 81,
   "id": "ec86e908",
   "metadata": {},
   "outputs": [],
   "source": [
    "model = ChatOpenAI(model = 'gpt-4o-mini')"
   ]
  },
  {
   "cell_type": "code",
   "execution_count": 103,
   "id": "91a62140",
   "metadata": {},
   "outputs": [],
   "source": [
    "class PsychatristState(TypedDict):\n",
    "\n",
    "    query : str\n",
    "    LLm_psychatrist : str\n",
    "    messages : Annotated[list[ HumanMessage | AIMessage],add_messages]\n",
    "     "
   ]
  },
  {
   "cell_type": "code",
   "execution_count": 98,
   "id": "f63d647a",
   "metadata": {},
   "outputs": [],
   "source": [
    "\n",
    "\n",
    "def llm_node(state: PsychatristState):\n",
    "   \n",
    "    \n",
    "    messages = [\n",
    "        SystemMessage(content=\"You are a helpful AI psychiatrist.\"),\n",
    "        HumanMessage(content=state['query'])\n",
    "    ]\n",
    "    \n",
    "   \n",
    "    # Call the LLM\n",
    "    response = model.invoke(messages)\n",
    "    state[\"LLm_psychatrist\"] = response.content\n",
    "    return {'LLm_psychatrist' : response.content}\n",
    "\n"
   ]
  },
  {
   "cell_type": "code",
   "execution_count": 105,
   "id": "e513e6ee",
   "metadata": {},
   "outputs": [],
   "source": [
    "def chat_message_history(state : PsychatristState) :\n",
    "\n",
    "    messages = state.get(\"messages\", [])\n",
    "\n",
    "    # Step 2: If no messages exist, initialize with the user query\n",
    "    if not messages and \"query\" in state:\n",
    "        messages.append(HumanMessage(content=state[\"query\"]))\n",
    "\n",
    "    # Step 3: Add the AI's last response if available\n",
    "    if \"LLm_psychatrist\" in state:\n",
    "        messages.append(AIMessage(content=state[\"LLm_psychatrist\"]))\n",
    "\n",
    "    # Step 4: Return updated history (do not invoke again here)\n",
    "    return {\"messages\": messages}"
   ]
  },
  {
   "cell_type": "code",
   "execution_count": 106,
   "id": "29fb2847",
   "metadata": {},
   "outputs": [],
   "source": [
    "\n",
    "\n",
    "graph = StateGraph(PsychatristState)\n",
    "\n",
    "graph.add_node(\"llm\", llm_node)\n",
    "graph.add_node(\"chat_message_history\" , chat_message_history)\n",
    "\n",
    "\n",
    "graph.add_edge(START, \"llm\")\n",
    "graph.add_edge(\"llm\", \"chat_message_history\")\n",
    "graph.add_edge(\"chat_message_history\" , END)\n",
    "\n",
    "\n",
    "workflow = graph.compile()"
   ]
  },
  {
   "cell_type": "code",
   "execution_count": 107,
   "id": "f8f186b0",
   "metadata": {},
   "outputs": [
    {
     "data": {
      "image/png": "[encoded data removed]",
      "text/plain": [
       "<langgraph.graph.state.CompiledStateGraph object at 0x000001F95EEEAE00>"
      ]
     },
     "execution_count": 107,
     "metadata": {},
     "output_type": "execute_result"
    }
   ],
   "source": [
    "workflow"
   ]
  },
  {
   "cell_type": "code",
   "execution_count": 108,
   "id": "f595f262",
   "metadata": {},
   "outputs": [
    {
     "data": {
      "text/plain": [
       "{'query': \"Hello, I hope you’re able to understand what I’m about to express. Lately, I’ve been experiencing a strange mix of emotional states that are difficult to articulate clearly. On the surface, everything seems fine — I have a stable job, a supportive partner, and a relatively healthy lifestyle. But despite all of this, I feel persistently empty and disconnected, like I'm going through life in autopilot. I don’t feel joy the way I used to, even during moments that should make me happy, like spending time with loved ones or achieving goals I once cared about. I find myself questioning the purpose behind my daily actions and whether any of it really matters. It's not quite depression, at least not in the classic sense — I’m still functioning, but the emotional depth seems to be missing.\\n\\nThis emotional numbness is paired with a heightened sense of guilt and self-doubt. I constantly feel like I’m failing to live up to my potential, or worse, that I’m deceiving others into believing I’m okay when I’m not. I’ve also been reflecting more and more on past traumas and unresolved family conflicts, which I thought I had moved on from. They’re resurfacing in dreams and thoughts, and it’s unsettling. I’ve tried meditation, journaling, even distraction — but nothing seems to help. I don’t know if I’m burned out, disillusioned, or simply emotionally exhausted. How can I begin to unpack all this and understand what’s really going on with me? Can you help me break this down — not just symptomatically, but from a deeper, more psychological perspective?\",\n",
       " 'LLm_psychatrist': 'Thank you for sharing your experience. It takes a lot of courage to open up about such complex feelings, and I’m here to help you unpack this. Your description of emotional numbness, feelings of disconnection, and self-doubt suggests you may be experiencing what some refer to as existential or emotional fatigue.\\n\\n### Understanding Your Experience\\n\\n1. **Emotional Numbness**: This can occur when the mind seeks to protect itself from overwhelming emotions, often as a response to stress or unresolved trauma. It sounds like you’re going through the motions of life without feeling deeply connected to it — a common aspect of what is sometimes termed \"existential ennui\" or \"anomie.\"\\n\\n2. **Self-Doubt and Guilt**: Feeling like you are deceiving others about your well-being often stems from societal pressures to appear \"okay\" or fulfilled. This can create a cycle where the more you project being fine, the more disconnected you might feel inside, leading to a sense of inadequacy.\\n\\n3. **Resurfacing Trauma**: The resurfacing of past traumas and unresolved conflicts may indicate that there are aspects of your past that need acknowledgment or processing. Sometimes, when we are busy focusing on day-to-day life, deeper emotional work gets sidelined, only to re-emerge when we least expect it.\\n\\n4. **Dissonance Between Life’s Successes and Internal Experience**: It’s common to feel disconnected from achievements or relationships when you’re struggling with emotional depth. This dissonance can make you question the meaning or purpose of what should be fulfilling.\\n\\n### Steps to Begin Unpacking These Feelings\\n\\n1. **Acknowledge Your Feelings**: Allow yourself to feel what you’re feeling without judgment. Recognizing emotional numbness doesn’t mean you are failing; it’s part of a larger picture that deserves attention.\\n\\n2. **Explore Underlying Themes**:\\n   - Reflect on what “success” means to you. Are you pursuing goals that align with your true self and values?\\n   - Think about unresolved conflicts from the past. Do these conflicts still hold emotional weight? What might they be trying to teach you now?\\n\\n3. **Connect with Your Emotions**: Consider creative outlets or therapeutic practices that can help you express and explore your feelings. Art, music, or even physical activities can reconnect you with emotions that might feel dormant.\\n\\n4. **Mindfulness and Presence**: You mentioned trying meditation. It might help to refine your practice by focusing specifically on cultivating awareness of current feelings rather than pushing them away. Being present can bring insights without needing to \"fix\" the numbness immediately.\\n\\n5. **Seek Professional Guidance**: Sometimes, talking to a therapist can provide space to delve deeper into these feelings. They can offer structured support for addressing past traumas and help you navigate current emotional states.\\n\\n6. **Build a Support Network**: Share your feelings with trusted friends or your partner. Sometimes, voicing what you’re going through can provide relief and connection, alleviating feelings of isolation.\\n\\n7. **Set Small, Meaningful Goals**: Rather than overwhelming yourself with thoughts about meaning in life, set small, realistic goals or intentions that bring joy or fulfillment — even if they seem minor.\\n\\n### Reflective Questions\\n\\nAs you begin this journey, consider exploring these questions:\\n- What activities or moments used to bring you joy, and how might you initiate a return to those experiences?\\n- Are there personal values that feel neglected in your current routine?\\n- How do you define success for yourself? Is it aligned with your current actions?\\n\\n### Conclusion\\n\\nYour feelings are significant and should not be dismissed. It’s a path of understanding and growth that can be challenging but also profoundly rewarding. Take your time, be gentle with yourself, and explore these aspects in a way that feels safe and necessary for you.',\n",
       " 'messages': [HumanMessage(content=\"Hello, I hope you’re able to understand what I’m about to express. Lately, I’ve been experiencing a strange mix of emotional states that are difficult to articulate clearly. On the surface, everything seems fine — I have a stable job, a supportive partner, and a relatively healthy lifestyle. But despite all of this, I feel persistently empty and disconnected, like I'm going through life in autopilot. I don’t feel joy the way I used to, even during moments that should make me happy, like spending time with loved ones or achieving goals I once cared about. I find myself questioning the purpose behind my daily actions and whether any of it really matters. It's not quite depression, at least not in the classic sense — I’m still functioning, but the emotional depth seems to be missing.\\n\\nThis emotional numbness is paired with a heightened sense of guilt and self-doubt. I constantly feel like I’m failing to live up to my potential, or worse, that I’m deceiving others into believing I’m okay when I’m not. I’ve also been reflecting more and more on past traumas and unresolved family conflicts, which I thought I had moved on from. They’re resurfacing in dreams and thoughts, and it’s unsettling. I’ve tried meditation, journaling, even distraction — but nothing seems to help. I don’t know if I’m burned out, disillusioned, or simply emotionally exhausted. How can I begin to unpack all this and understand what’s really going on with me? Can you help me break this down — not just symptomatically, but from a deeper, more psychological perspective?\", additional_kwargs={}, response_metadata={}, id='3c563af6-f628-4acc-a2d8-d3975a46a3d6'),\n",
       "  AIMessage(content='Thank you for sharing your experience. It takes a lot of courage to open up about such complex feelings, and I’m here to help you unpack this. Your description of emotional numbness, feelings of disconnection, and self-doubt suggests you may be experiencing what some refer to as existential or emotional fatigue.\\n\\n### Understanding Your Experience\\n\\n1. **Emotional Numbness**: This can occur when the mind seeks to protect itself from overwhelming emotions, often as a response to stress or unresolved trauma. It sounds like you’re going through the motions of life without feeling deeply connected to it — a common aspect of what is sometimes termed \"existential ennui\" or \"anomie.\"\\n\\n2. **Self-Doubt and Guilt**: Feeling like you are deceiving others about your well-being often stems from societal pressures to appear \"okay\" or fulfilled. This can create a cycle where the more you project being fine, the more disconnected you might feel inside, leading to a sense of inadequacy.\\n\\n3. **Resurfacing Trauma**: The resurfacing of past traumas and unresolved conflicts may indicate that there are aspects of your past that need acknowledgment or processing. Sometimes, when we are busy focusing on day-to-day life, deeper emotional work gets sidelined, only to re-emerge when we least expect it.\\n\\n4. **Dissonance Between Life’s Successes and Internal Experience**: It’s common to feel disconnected from achievements or relationships when you’re struggling with emotional depth. This dissonance can make you question the meaning or purpose of what should be fulfilling.\\n\\n### Steps to Begin Unpacking These Feelings\\n\\n1. **Acknowledge Your Feelings**: Allow yourself to feel what you’re feeling without judgment. Recognizing emotional numbness doesn’t mean you are failing; it’s part of a larger picture that deserves attention.\\n\\n2. **Explore Underlying Themes**:\\n   - Reflect on what “success” means to you. Are you pursuing goals that align with your true self and values?\\n   - Think about unresolved conflicts from the past. Do these conflicts still hold emotional weight? What might they be trying to teach you now?\\n\\n3. **Connect with Your Emotions**: Consider creative outlets or therapeutic practices that can help you express and explore your feelings. Art, music, or even physical activities can reconnect you with emotions that might feel dormant.\\n\\n4. **Mindfulness and Presence**: You mentioned trying meditation. It might help to refine your practice by focusing specifically on cultivating awareness of current feelings rather than pushing them away. Being present can bring insights without needing to \"fix\" the numbness immediately.\\n\\n5. **Seek Professional Guidance**: Sometimes, talking to a therapist can provide space to delve deeper into these feelings. They can offer structured support for addressing past traumas and help you navigate current emotional states.\\n\\n6. **Build a Support Network**: Share your feelings with trusted friends or your partner. Sometimes, voicing what you’re going through can provide relief and connection, alleviating feelings of isolation.\\n\\n7. **Set Small, Meaningful Goals**: Rather than overwhelming yourself with thoughts about meaning in life, set small, realistic goals or intentions that bring joy or fulfillment — even if they seem minor.\\n\\n### Reflective Questions\\n\\nAs you begin this journey, consider exploring these questions:\\n- What activities or moments used to bring you joy, and how might you initiate a return to those experiences?\\n- Are there personal values that feel neglected in your current routine?\\n- How do you define success for yourself? Is it aligned with your current actions?\\n\\n### Conclusion\\n\\nYour feelings are significant and should not be dismissed. It’s a path of understanding and growth that can be challenging but also profoundly rewarding. Take your time, be gentle with yourself, and explore these aspects in a way that feels safe and necessary for you.', additional_kwargs={}, response_metadata={}, id='79fc0e47-805a-47f9-8dd6-32a6b2e39082')]}"
      ]
     },
     "execution_count": 108,
     "metadata": {},
     "output_type": "execute_result"
    }
   ],
   "source": [
    "input_state = {\n",
    "    \"query\": \"\"\"Hello, I hope you’re able to understand what I’m about to express. Lately, I’ve been experiencing a strange mix of emotional states that are difficult to articulate clearly. On the surface, everything seems fine — I have a stable job, a supportive partner, and a relatively healthy lifestyle. But despite all of this, I feel persistently empty and disconnected, like I'm going through life in autopilot. I don’t feel joy the way I used to, even during moments that should make me happy, like spending time with loved ones or achieving goals I once cared about. I find myself questioning the purpose behind my daily actions and whether any of it really matters. It's not quite depression, at least not in the classic sense — I’m still functioning, but the emotional depth seems to be missing.\\n\\nThis emotional numbness is paired with a heightened sense of guilt and self-doubt. I constantly feel like I’m failing to live up to my potential, or worse, that I’m deceiving others into believing I’m okay when I’m not. I’ve also been reflecting more and more on past traumas and unresolved family conflicts, which I thought I had moved on from. They’re resurfacing in dreams and thoughts, and it’s unsettling. I’ve tried meditation, journaling, even distraction — but nothing seems to help. I don’t know if I’m burned out, disillusioned, or simply emotionally exhausted. How can I begin to unpack all this and understand what’s really going on with me? Can you help me break this down — not just symptomatically, but from a deeper, more psychological perspective?\"\"\",\n",
    "    \n",
    "}\n",
    "\n",
    "workflow.invoke(input_state)\n"
   ]
  },
  {
   "cell_type": "code",
   "execution_count": null,
   "id": "631363d1",
   "metadata": {},
   "outputs": [],
   "source": []
  },
  {
   "cell_type": "code",
   "execution_count": null,
   "id": "d8f24c24",
   "metadata": {},
   "outputs": [],
   "source": []
  }
 ],
 "metadata": {
  "kernelspec": {
   "display_name": "psychologist",
   "language": "python",
   "name": "python3"
  },
  "language_info": {
   "codemirror_mode": {
    "name": "ipython",
    "version": 3
   },
   "file_extension": ".py",
   "mimetype": "text/x-python",
   "name": "python",
   "nbconvert_exporter": "python",
   "pygments_lexer": "ipython3",
   "version": "3.13.2"
  }
 },
 "nbformat": 4,
 "nbformat_minor": 5
}
